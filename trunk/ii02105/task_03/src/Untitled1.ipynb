{
 "cells": [
  {
   "cell_type": "code",
   "execution_count": 1,
   "id": "1783b612",
   "metadata": {},
   "outputs": [
    {
     "ename": "NameError",
     "evalue": "name 'graphs' is not defined",
     "output_type": "error",
     "traceback": [
      "\u001b[0;31m---------------------------------------------------------------------------\u001b[0m",
      "\u001b[0;31mNameError\u001b[0m                                 Traceback (most recent call last)",
      "Input \u001b[0;32mIn [1]\u001b[0m, in \u001b[0;36m<cell line: 5>\u001b[0;34m()\u001b[0m\n\u001b[1;32m      2\u001b[0m \u001b[38;5;28msorted\u001b[39m(graphplot_options\u001b[38;5;241m.\u001b[39mitems())\n\u001b[1;32m      4\u001b[0m \u001b[38;5;28;01mfrom\u001b[39;00m \u001b[38;5;21;01mmath\u001b[39;00m \u001b[38;5;28;01mimport\u001b[39;00m sin, cos, pi\n\u001b[0;32m----> 5\u001b[0m P \u001b[38;5;241m=\u001b[39m \u001b[43mgraphs\u001b[49m\u001b[38;5;241m.\u001b[39mPetersenGraph()\n\u001b[1;32m      6\u001b[0m d \u001b[38;5;241m=\u001b[39m {\u001b[38;5;124m'\u001b[39m\u001b[38;5;124m#FF0000\u001b[39m\u001b[38;5;124m'\u001b[39m: [\u001b[38;5;241m0\u001b[39m, \u001b[38;5;241m5\u001b[39m], \u001b[38;5;124m'\u001b[39m\u001b[38;5;124m#FF9900\u001b[39m\u001b[38;5;124m'\u001b[39m: [\u001b[38;5;241m1\u001b[39m, \u001b[38;5;241m6\u001b[39m], \u001b[38;5;124m'\u001b[39m\u001b[38;5;124m#FFFF00\u001b[39m\u001b[38;5;124m'\u001b[39m: [\u001b[38;5;241m2\u001b[39m, \u001b[38;5;241m7\u001b[39m], \u001b[38;5;124m'\u001b[39m\u001b[38;5;124m#00FF00\u001b[39m\u001b[38;5;124m'\u001b[39m: [\u001b[38;5;241m3\u001b[39m, \u001b[38;5;241m8\u001b[39m], \u001b[38;5;124m'\u001b[39m\u001b[38;5;124m#0000FF\u001b[39m\u001b[38;5;124m'\u001b[39m: [\u001b[38;5;241m4\u001b[39m, \u001b[38;5;241m9\u001b[39m]}\n\u001b[1;32m      7\u001b[0m pos_dict \u001b[38;5;241m=\u001b[39m {}\n",
      "\u001b[0;31mNameError\u001b[0m: name 'graphs' is not defined"
     ]
    }
   ],
   "source": [
    "from sage.graphs.graph_plot import graphplot_options\n",
    "sorted(graphplot_options.items())\n",
    "\n",
    "from math import sin, cos, pi\n",
    "P = graphs.PetersenGraph()\n",
    "d = {'#FF0000': [0, 5], '#FF9900': [1, 6], '#FFFF00': [2, 7], '#00FF00': [3, 8], '#0000FF': [4, 9]}\n",
    "pos_dict = {}\n",
    "for i in range(5):\n",
    " x = float(cos(pi/2 + ((2*pi)/5)*i))\n",
    " y = float(sin(pi/2 + ((2*pi)/5)*i))\n",
    " pos_dict[i] = [x,y]\n",
    "for i in range(5, 10):\n",
    " x = float(0.5*cos(pi/2 + ((2*pi)/5)*i))\n",
    " y = float(0.5*sin(pi/2 + ((2*pi)/5)*i))\n",
    " pos_dict[i] = [x,y]\n",
    "pl = P.plot(pos=pos_dict, vertex_colors=d)\n",
    "pl.show()"
   ]
  },
  {
   "cell_type": "code",
   "execution_count": null,
   "id": "0e8c082b",
   "metadata": {},
   "outputs": [],
   "source": []
  }
 ],
 "metadata": {
  "kernelspec": {
   "display_name": "Python 3 (ipykernel)",
   "language": "python",
   "name": "python3"
  },
  "language_info": {
   "codemirror_mode": {
    "name": "ipython",
    "version": 3
   },
   "file_extension": ".py",
   "mimetype": "text/x-python",
   "name": "python",
   "nbconvert_exporter": "python",
   "pygments_lexer": "ipython3",
   "version": "3.10.5"
  },
  "vscode": {
   "interpreter": {
    "hash": "916dbcbb3f70747c44a77c7bcd40155683ae19c65e1c03b4aa3499c5328201f1"
   }
  }
 },
 "nbformat": 4,
 "nbformat_minor": 5
}
