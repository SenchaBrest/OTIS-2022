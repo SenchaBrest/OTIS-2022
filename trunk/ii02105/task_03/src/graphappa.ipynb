{
 "cells": [
  {
   "cell_type": "code",
   "execution_count": 1,
   "id": "78d1def1",
   "metadata": {},
   "outputs": [],
   "source": [
    "from lib import GraphEditor\n",
    "from sage.all import graphs"
   ]
  },
  {
   "cell_type": "code",
   "execution_count": 2,
   "id": "a86ad789",
   "metadata": {},
   "outputs": [
    {
     "data": {
      "application/vnd.jupyter.widget-view+json": {
       "model_id": "9c2136c3704a48469b012518ed1d117b",
       "version_major": 2,
       "version_minor": 0
      },
      "text/plain": [
       "HBox(children=(VBox(children=(MultiCanvas(height=400, layout=Layout(border='3px solid lightgrey', height='406p…"
      ]
     },
     "metadata": {},
     "output_type": "display_data"
    }
   ],
   "source": [
    "editor = GraphEditor()\n",
    "editor.show()"
   ]
  },
  {
   "cell_type": "code",
   "execution_count": null,
   "id": "203d706c",
   "metadata": {},
   "outputs": [],
   "source": [
    "G = editor.graph\n",
    "G."
   ]
  }
 ],
 "metadata": {
  "kernelspec": {
   "display_name": "SageMath 9.7",
   "language": "sage",
   "name": "sagemath"
  },
  "language_info": {
   "codemirror_mode": {
    "name": "ipython",
    "version": 3
   },
   "file_extension": ".py",
   "mimetype": "text/x-python",
   "name": "python",
   "nbconvert_exporter": "python",
   "pygments_lexer": "ipython3",
   "version": "3.10.5"
  }
 },
 "nbformat": 4,
 "nbformat_minor": 5
}
